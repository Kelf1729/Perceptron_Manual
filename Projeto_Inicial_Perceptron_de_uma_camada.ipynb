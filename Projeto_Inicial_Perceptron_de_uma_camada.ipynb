{
  "nbformat": 4,
  "nbformat_minor": 0,
  "metadata": {
    "colab": {
      "name": "Projeto Inicial Perceptron de uma camada.ipynb",
      "provenance": [],
      "collapsed_sections": [],
      "authorship_tag": "ABX9TyM4UvpMhWJFgEaVHrxoz7Vf",
      "include_colab_link": true
    },
    "kernelspec": {
      "name": "python3",
      "display_name": "Python 3"
    }
  },
  "cells": [
    {
      "cell_type": "markdown",
      "metadata": {
        "id": "view-in-github",
        "colab_type": "text"
      },
      "source": [
        "<a href=\"https://colab.research.google.com/github/Kelf1729/Perceptron_Manual/blob/master/Projeto_Inicial_Perceptron_de_uma_camada.ipynb\" target=\"_parent\"><img src=\"https://colab.research.google.com/assets/colab-badge.svg\" alt=\"Open In Colab\"/></a>"
      ]
    },
    {
      "cell_type": "markdown",
      "metadata": {
        "id": "-v797oEApkoI",
        "colab_type": "text"
      },
      "source": [
        "# PROJETO MODELO SIMPLES DE UM PERCEPTRON DE UMA CAMADA "
      ]
    },
    {
      "cell_type": "code",
      "metadata": {
        "id": "lO9-zxH6pFyr",
        "colab_type": "code",
        "colab": {}
      },
      "source": [
        "#Importação de bibliotecas \n",
        "import tensorflow as tf  \n",
        "import numpy as np "
      ],
      "execution_count": 0,
      "outputs": []
    },
    {
      "cell_type": "markdown",
      "metadata": {
        "id": "GqP-Hm8wM6tA",
        "colab_type": "text"
      },
      "source": [
        "Criando as variáveis de entrada do modelo "
      ]
    },
    {
      "cell_type": "code",
      "metadata": {
        "id": "uzMX9WtiMy2o",
        "colab_type": "code",
        "colab": {
          "base_uri": "https://localhost:8080/",
          "height": 84
        },
        "outputId": "61bfb87b-6eaf-4928-b7cf-3eedda2c78bb"
      },
      "source": [
        "X = np.array([[0.0, 0.0],\n",
        "              [0.0, 1.0],\n",
        "              [1.0, 0.0],\n",
        "              [1.0, 1.0]]) #Criando matriz (X1 e X2)\n",
        "X #Visualizando resultado "
      ],
      "execution_count": 3,
      "outputs": [
        {
          "output_type": "execute_result",
          "data": {
            "text/plain": [
              "array([[0., 0.],\n",
              "       [0., 1.],\n",
              "       [1., 0.],\n",
              "       [1., 1.]])"
            ]
          },
          "metadata": {
            "tags": []
          },
          "execution_count": 3
        }
      ]
    },
    {
      "cell_type": "markdown",
      "metadata": {
        "id": "BMDoUGvDOhE0",
        "colab_type": "text"
      },
      "source": [
        "Criando variável de classes "
      ]
    },
    {
      "cell_type": "code",
      "metadata": {
        "id": "wzIA0JF_Niq7",
        "colab_type": "code",
        "colab": {
          "base_uri": "https://localhost:8080/",
          "height": 84
        },
        "outputId": "fa9f758b-5e47-4701-8449-299005216e58"
      },
      "source": [
        "Y = np.array([[0.0], [0.0], [0.0], [1.0]]) #Classificação correta\n",
        "Y #visualizando os resultados "
      ],
      "execution_count": 4,
      "outputs": [
        {
          "output_type": "execute_result",
          "data": {
            "text/plain": [
              "array([[0.],\n",
              "       [0.],\n",
              "       [0.],\n",
              "       [1.]])"
            ]
          },
          "metadata": {
            "tags": []
          },
          "execution_count": 4
        }
      ]
    },
    {
      "cell_type": "markdown",
      "metadata": {
        "id": "MH5KWUDEQg0g",
        "colab_type": "text"
      },
      "source": [
        "Criando a matriz de pesos do modelo "
      ]
    },
    {
      "cell_type": "code",
      "metadata": {
        "id": "-FRu3DSsO0SQ",
        "colab_type": "code",
        "colab": {}
      },
      "source": [
        "W = tf.Variable(tf.zeros([2,1], dtype = tf.float64)) #Definindo uma matriz de zeros com o 2 linhas e 1 coluna e tipo de zeros float "
      ],
      "execution_count": 0,
      "outputs": []
    },
    {
      "cell_type": "code",
      "metadata": {
        "id": "YFAcvIGgQ5Y8",
        "colab_type": "code",
        "colab": {}
      },
      "source": [
        "#Para visualizar as variáveis é necessário inicializar o mesmo, logo :\n",
        "init = tf.global_variables_initializer()"
      ],
      "execution_count": 0,
      "outputs": []
    },
    {
      "cell_type": "code",
      "metadata": {
        "id": "K2phP3HuRmFh",
        "colab_type": "code",
        "colab": {}
      },
      "source": [
        "#Para obter a camada de Saída realizamos a multiplicação da matriz de entradas pela matriz de pesos \n",
        "camada_saida = tf.matmul(X, W)"
      ],
      "execution_count": 0,
      "outputs": []
    },
    {
      "cell_type": "markdown",
      "metadata": {
        "id": "oOlDcWP9T0G3",
        "colab_type": "text"
      },
      "source": [
        "Criando a função de ativação para analisar os resultados da camada de saída"
      ]
    },
    {
      "cell_type": "code",
      "metadata": {
        "id": "A05zIAMmTX2n",
        "colab_type": "code",
        "colab": {}
      },
      "source": [
        "# math greater retorna um True or False se o primeiro valor for superior ao primeiro\n",
        "#Convertendo o resultado da função para um tipo float64\n",
        "#A função de ativação deve ser aplicada em cada elemento da matriz camada de saída \n",
        "def Step(x): #Função Step de sinais zero ou 1 (função degrau)\n",
        "  return tf.cast(tf.to_float(tf.math.greater_equal(x, 1)), tf.float64) "
      ],
      "execution_count": 0,
      "outputs": []
    },
    {
      "cell_type": "markdown",
      "metadata": {
        "id": "e4U7jnTUWLco",
        "colab_type": "text"
      },
      "source": [
        "Criando uma camada de resultados para a camada de saída "
      ]
    },
    {
      "cell_type": "code",
      "metadata": {
        "id": "4-LfskB2WQ-G",
        "colab_type": "code",
        "colab": {}
      },
      "source": [
        "camada_saida_ativacao = Step(camada_saida) #Aplicando a função Step a cada elemento "
      ],
      "execution_count": 0,
      "outputs": []
    },
    {
      "cell_type": "markdown",
      "metadata": {
        "id": "kGuF4UNnXYIC",
        "colab_type": "text"
      },
      "source": [
        "Criando o elemento de verificação dos resultados, ou seja, uma variável de erro "
      ]
    },
    {
      "cell_type": "code",
      "metadata": {
        "id": "vfI0ygMuXedO",
        "colab_type": "code",
        "colab": {}
      },
      "source": [
        "#Variável de Erro\n",
        "error = tf.subtract(Y, camada_saida_ativacao) #verificando o resultado esperado Y com a previsão da função de ativação "
      ],
      "execution_count": 0,
      "outputs": []
    },
    {
      "cell_type": "code",
      "metadata": {
        "id": "Rq2PKnCdbOB2",
        "colab_type": "code",
        "colab": {}
      },
      "source": [
        "#Criar uma variável que recebe a multiplicação da entrada(X) pelos erros\n",
        "#Contudo a ordem das matrizes não permite a multiplicação sem a transposta da X \n",
        "delta = tf.matmul(X, error, transpose_a= True) #Transposta de X é verdade"
      ],
      "execution_count": 0,
      "outputs": []
    },
    {
      "cell_type": "markdown",
      "metadata": {
        "id": "WOTWr5ArcQWj",
        "colab_type": "text"
      },
      "source": [
        "Criando a variável de treinamento "
      ]
    },
    {
      "cell_type": "code",
      "metadata": {
        "id": "HfAtgsUCcTFn",
        "colab_type": "code",
        "colab": {}
      },
      "source": [
        "#0.01 é a taxa de aprendizado dos valores de delta \n",
        "#Mais a soma dos pesos W com o add \n",
        "treinamento = tf.assign(W, tf.add(W, tf.multiply(delta, 0.1))) "
      ],
      "execution_count": 0,
      "outputs": []
    },
    {
      "cell_type": "code",
      "metadata": {
        "id": "xOONoxHnRB9T",
        "colab_type": "code",
        "colab": {
          "base_uri": "https://localhost:8080/",
          "height": 151
        },
        "outputId": "504db67c-76f4-4bd9-c408-90555ba07c16"
      },
      "source": [
        "with tf.Session() as sess: #Criando \n",
        "  sess.run(init) #Inicializando as variáveis \n",
        "  print('\\n')\n",
        "  #Criando o loop para modelar as épocas \n",
        "  epocas = 0\n",
        "  for i in range(10**6):\n",
        "    epocas += 1\n",
        "    erro_total, _ = sess.run([error, treinamento]) #O traço é apenas para compor a recepção de treinamento que é none\n",
        "    erro_soma = tf.reduce_sum(erro_total) #soma dos erros do vetor Erro total \n",
        "    print('Época: ', epocas, 'Erro Soma: ', sess.run(erro_soma))\n",
        "    #Critério de parada para o loop de correção \n",
        "    if erro_soma.eval() == 0.0:\n",
        "      break\n",
        "    #Obtendo os valores dos pesos corrigidos\n",
        "    W_final = sess.run(W)"
      ],
      "execution_count": 52,
      "outputs": [
        {
          "output_type": "stream",
          "text": [
            "\n",
            "\n",
            "Época:  1 Erro Soma:  1.0\n",
            "Época:  2 Erro Soma:  1.0\n",
            "Época:  3 Erro Soma:  1.0\n",
            "Época:  4 Erro Soma:  1.0\n",
            "Época:  5 Erro Soma:  1.0\n",
            "Época:  6 Erro Soma:  0.0\n"
          ],
          "name": "stdout"
        }
      ]
    },
    {
      "cell_type": "code",
      "metadata": {
        "id": "U1sJbpkHVgnV",
        "colab_type": "code",
        "colab": {
          "base_uri": "https://localhost:8080/",
          "height": 50
        },
        "outputId": "2edb9008-3fdd-4f18-d022-6d447e955b04"
      },
      "source": [
        "W_final"
      ],
      "execution_count": 53,
      "outputs": [
        {
          "output_type": "execute_result",
          "data": {
            "text/plain": [
              "array([[0.5],\n",
              "       [0.5]])"
            ]
          },
          "metadata": {
            "tags": []
          },
          "execution_count": 53
        }
      ]
    },
    {
      "cell_type": "markdown",
      "metadata": {
        "id": "ClhKh8gEgs7w",
        "colab_type": "text"
      },
      "source": [
        "#Criando um teste para analisar os pesos corretos e ver a qualidade dos resultados "
      ]
    },
    {
      "cell_type": "code",
      "metadata": {
        "id": "Bon0Kn8EgC7Q",
        "colab_type": "code",
        "colab": {
          "base_uri": "https://localhost:8080/",
          "height": 84
        },
        "outputId": "fd264b50-c61c-4ffc-c495-b06f0c78a8b1"
      },
      "source": [
        "#teste dos pesos corrigidos \n",
        "camada_saida_teste = tf.matmul(X, W_final) #Nova multiplicação de teste\n",
        "camada_saida_ativacao_teste = Step(camada_saida_teste) #aplicando a função de ativação para obter os valores \n",
        "with tf.Session() as sess: #Realizando as operações \n",
        "  sess.run(init)\n",
        "  print(sess.run(camada_saida_ativacao_teste)) #obtendo os valores de previsão "
      ],
      "execution_count": 55,
      "outputs": [
        {
          "output_type": "stream",
          "text": [
            "[[0.]\n",
            " [0.]\n",
            " [0.]\n",
            " [1.]]\n"
          ],
          "name": "stdout"
        }
      ]
    },
    {
      "cell_type": "code",
      "metadata": {
        "id": "1CRDCwKehTge",
        "colab_type": "code",
        "colab": {}
      },
      "source": [
        ""
      ],
      "execution_count": 0,
      "outputs": []
    }
  ]
}